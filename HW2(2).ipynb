{
 "cells": [
  {
   "cell_type": "markdown",
   "metadata": {},
   "source": [
    "# Домашняя работа 2\n",
    "## *Шибасова Дарья, БКЛ182*\n",
    "Делала совместно с Людой Путятовой, Машей Козловой и Ликой Джиоевой"
   ]
  },
  {
   "cell_type": "markdown",
   "metadata": {},
   "source": [
    "##### Задание 2"
   ]
  },
  {
   "cell_type": "markdown",
   "metadata": {},
   "source": [
    "###### Обрабатываем книгу с помощью mystem:"
   ]
  },
  {
   "cell_type": "code",
   "execution_count": 5,
   "metadata": {},
   "outputs": [
    {
     "name": "stdout",
     "output_type": "stream",
     "text": [
      "Collecting pymystem3\n",
      "  Downloading https://files.pythonhosted.org/packages/00/8c/98b43c5822620458704e187a1666616c1e21a846ede8ffda493aabe11207/pymystem3-0.2.0-py3-none-any.whl\n",
      "Requirement already satisfied: requests in c:\\users\\badro\\anaconda\\lib\\site-packages (from pymystem3) (2.22.0)\n",
      "Requirement already satisfied: certifi>=2017.4.17 in c:\\users\\badro\\anaconda\\lib\\site-packages (from requests->pymystem3) (2019.6.16)\n",
      "Requirement already satisfied: chardet<3.1.0,>=3.0.2 in c:\\users\\badro\\anaconda\\lib\\site-packages (from requests->pymystem3) (3.0.4)\n",
      "Requirement already satisfied: urllib3!=1.25.0,!=1.25.1,<1.26,>=1.21.1 in c:\\users\\badro\\anaconda\\lib\\site-packages (from requests->pymystem3) (1.24.2)\n",
      "Requirement already satisfied: idna<2.9,>=2.5 in c:\\users\\badro\\anaconda\\lib\\site-packages (from requests->pymystem3) (2.8)\n",
      "Installing collected packages: pymystem3\n",
      "Successfully installed pymystem3-0.2.0\n",
      "Note: you may need to restart the kernel to use updated packages.\n"
     ]
    }
   ],
   "source": [
    "pip install pymystem3"
   ]
  },
  {
   "cell_type": "code",
   "execution_count": 3,
   "metadata": {},
   "outputs": [],
   "source": [
    "import json\n",
    "from pymystem3 import Mystem"
   ]
  },
  {
   "cell_type": "code",
   "execution_count": 4,
   "metadata": {},
   "outputs": [],
   "source": [
    "m = Mystem()"
   ]
  },
  {
   "cell_type": "code",
   "execution_count": 5,
   "metadata": {
    "scrolled": true
   },
   "outputs": [],
   "source": [
    "with open('пам.txt', encoding=\"utf-8\") as f:\n",
    "    text = f.read()\n"
   ]
  },
  {
   "cell_type": "markdown",
   "metadata": {},
   "source": [
    "###### Распарсим текст"
   ]
  },
  {
   "cell_type": "code",
   "execution_count": 6,
   "metadata": {},
   "outputs": [
    {
     "name": "stdout",
     "output_type": "stream",
     "text": [
      "[{'text': '<'}, {'analysis': [], 'text': 'https'}, {'text': '://'}, {'analysis': [], 'text': 'ilibrary'}, {'text': '.'}, {'analysis': [], 'text': 'ru'}, {'text': '/>\\n'}, {'text': ' \\n'}, {'text': '\\n'}, {'analysis': [{'lex': 'автор', 'wt': 1, 'gr': 'S,муж,од=им,мн'}], 'text': 'Авторы'}, {'text': ' <'}, {'analysis': [], 'text': 'https'}, {'text': '://'}, {'analysis': [], 'text': 'ilibrary'}, {'text': '.'}, {'analysis': [], 'text': 'ru'}, {'text': '/'}, {'analysis': [], 'text': 'author'}, {'text': '.'}, {'analysis': [], 'text': 'html'}, {'text': '>\\n'}, {'text': '<'}, {'text': '#'}, {'text': '>\\n'}, {'text': ' \\n'}, {'analysis': [{'lex': 'г', 'wt': 1, 'gr': 'S,сокр=(пр,мн|пр,ед|вин,мн|вин,ед|дат,мн|дат,ед|род,мн|род,ед|твор,мн|твор,ед|им,мн|им,ед)'}], 'text': 'Г'}, {'text': '. '}, {'analysis': [{'lex': 'р', 'wt': 1, 'gr': 'S,сокр=(пр,мн|пр,ед|вин,мн|вин,ед|дат,мн|дат,ед|род,мн|род,ед|твор,мн|твор,ед|им,мн|им,ед)'}], 'text': 'Р'}, {'text': '. '}, {'analysis': [{'lex': 'державин', 'wt': 1, 'gr': 'S,фам,муж,од=им,ед'}], 'text': 'Державин'}, {'text': ' <'}, {'analysis': [], 'text': 'https'}, {'text': '://'}, {'analysis': [], 'text': 'ilibrary'}, {'text': '.'}, {'analysis': [], 'text': 'ru'}, {'text': '/'}, {'analysis': [], 'text': 'author'}, {'text': '/'}, {'analysis': [], 'text': 'derzhavin'}, {'text': '/'}, {'analysis': [], 'text': 'index'}, {'text': '.'}, {'analysis': [], 'text': 'html'}, {'text': '>'}, {'text': '.'}, {'text': '\\n'}, {'analysis': [{'lex': 'памятник', 'wt': 1, 'gr': 'S,муж,неод=(вин,ед|им,ед)'}], 'text': 'Памятник'}, {'text': ' («'}, {'analysis': [{'lex': 'я', 'wt': 0.9999716281, 'gr': 'SPRO,ед,1-л=им'}], 'text': 'Я'}, {'text': ' '}, {'analysis': [{'lex': 'памятник', 'wt': 1, 'gr': 'S,муж,неод=(вин,ед|им,ед)'}], 'text': 'памятник'}, {'text': ' '}, {'analysis': [{'lex': 'себя', 'wt': 0.9438010556, 'gr': 'SPRO=(пр|дат)'}], 'text': 'себе'}, {'text': ' '}, {'analysis': [{'lex': 'воздвигать', 'wt': 1, 'gr': 'V,пе=прош,ед,изъяв,муж,сов'}], 'text': 'воздвиг'}, {'text': ' '}, {'analysis': [{'lex': 'чудесный', 'wt': 1, 'gr': 'A=(вин,ед,полн,муж,неод|им,ед,полн,муж)'}], 'text': 'чудесный'}, {'text': ', '}, {'analysis': [{'lex': 'вечный', 'wt': 1, 'gr': 'A=(вин,ед,полн,муж,неод|им,ед,полн,муж)'}], 'text': 'вечный'}, {'text': '...'}, {'text': '»)\\n'}, {'text': '<'}, {'analysis': [], 'text': 'https'}, {'text': '://'}, {'analysis': [], 'text': 'ilibrary'}, {'text': '.'}, {'analysis': [], 'text': 'ru'}, {'text': '/'}, {'analysis': [], 'text': 'text'}, {'text': '/'}, {'text': '1272'}, {'text': '/'}, {'analysis': [], 'text': 'index'}, {'text': '.'}, {'analysis': [], 'text': 'html'}, {'text': '>\\n'}, {'analysis': [{'lex': 'гавриил', 'wt': 1, 'gr': 'S,имя,муж,од=им,ед'}], 'text': 'Гавриил'}, {'text': ' '}, {'analysis': [{'lex': 'державин', 'wt': 1, 'gr': 'S,фам,муж,од=им,ед'}], 'text': 'Державин'}, {'text': '\\n'}, {'text': '\\n'}, {'text': '\\n'}, {'text': '  '}, {'analysis': [{'lex': 'памятник', 'wt': 1, 'gr': 'S,муж,неод=(вин,ед|им,ед)'}], 'text': 'Памятник'}, {'text': '\\n'}, {'text': '\\n'}, {'analysis': [{'lex': 'я', 'wt': 0.9999716281, 'gr': 'SPRO,ед,1-л=им'}], 'text': 'Я'}, {'text': ' '}, {'analysis': [{'lex': 'памятник', 'wt': 1, 'gr': 'S,муж,неод=(вин,ед|им,ед)'}], 'text': 'памятник'}, {'text': ' '}, {'analysis': [{'lex': 'себя', 'wt': 0.9438010556, 'gr': 'SPRO=(пр|дат)'}], 'text': 'себе'}, {'text': ' '}, {'analysis': [{'lex': 'воздвигать', 'wt': 1, 'gr': 'V,пе=прош,ед,изъяв,муж,сов'}], 'text': 'воздвиг'}, {'text': ' '}, {'analysis': [{'lex': 'чудесный', 'wt': 1, 'gr': 'A=(вин,ед,полн,муж,неод|им,ед,полн,муж)'}], 'text': 'чудесный'}, {'text': ', '}, {'analysis': [{'lex': 'вечный', 'wt': 1, 'gr': 'A=(вин,ед,полн,муж,неод|им,ед,полн,муж)'}], 'text': 'вечный'}, {'text': ',\\n'}, {'analysis': [{'lex': 'металл', 'wt': 1, 'gr': 'S,муж,неод=род,мн'}], 'text': 'Металлов'}, {'text': ' '}, {'analysis': [{'lex': 'твердо', 'wt': 0.6267699048, 'gr': 'ADV=срав'}], 'text': 'тверже'}, {'text': ' '}, {'analysis': [{'lex': 'он', 'wt': 1, 'gr': 'SPRO,ед,3-л,муж=им'}], 'text': 'он'}, {'text': ' '}, {'analysis': [{'lex': 'и', 'wt': 0.9999770357, 'gr': 'CONJ='}], 'text': 'и'}, {'text': ' '}, {'analysis': [{'lex': 'высоко', 'wt': 0.402286482, 'gr': 'ADV=срав'}], 'text': 'выше'}, {'text': ' '}, {'analysis': [{'lex': 'пирамида', 'wt': 1, 'gr': 'S,жен,неод=род,мн'}], 'text': 'пирамид'}, {'text': ';\\n'}, {'analysis': [{'lex': 'ни', 'wt': 0.4403619901, 'gr': 'CONJ='}], 'text': 'Ни'}, {'text': ' '}, {'analysis': [{'lex': 'вихорь', 'wt': 1, 'gr': 'S,муж,неод=(вин,ед|им,ед)'}], 'text': 'вихрь'}, {'text': ' '}, {'analysis': [{'lex': 'он', 'wt': 0.9242062374, 'gr': 'SPRO,ед,3-л,муж=(вин|род)'}], 'text': 'его'}, {'text': ', '}, {'analysis': [{'lex': 'ни', 'wt': 0.4403619901, 'gr': 'CONJ='}], 'text': 'ни'}, {'text': ' '}, {'analysis': [{'lex': 'гром', 'wt': 1, 'gr': 'S,муж,неод=(вин,ед|им,ед)'}], 'text': 'гром'}, {'text': ' '}, {'analysis': [{'lex': 'не', 'wt': 1, 'gr': 'PART='}], 'text': 'не'}, {'text': ' '}, {'analysis': [{'lex': 'сламывать', 'wt': 1, 'gr': 'V,пе=непрош,ед,изъяв,3-л,сов'}], 'text': 'сломит'}, {'text': ' '}, {'analysis': [{'lex': 'быстротечный', 'wt': 1, 'gr': 'A=(вин,ед,полн,муж,неод|им,ед,полн,муж)'}], 'text': 'быстротечный'}, {'text': ',\\n'}, {'analysis': [{'lex': 'и', 'wt': 0.9999770357, 'gr': 'CONJ='}], 'text': 'И'}, {'text': ' '}, {'analysis': [{'lex': 'время', 'wt': 0.9999809924, 'gr': 'S,сред,неод=(пр,ед|дат,ед|род,ед)'}], 'text': 'времени'}, {'text': ' '}, {'analysis': [{'lex': 'полет', 'wt': 0.9914968161, 'gr': 'S,муж,неод=(вин,ед|им,ед)'}], 'text': 'полет'}, {'text': ' '}, {'analysis': [{'lex': 'он', 'wt': 0.9242062374, 'gr': 'SPRO,ед,3-л,муж=(вин|род)'}], 'text': 'его'}, {'text': ' '}, {'analysis': [{'lex': 'не', 'wt': 1, 'gr': 'PART='}], 'text': 'не'}, {'text': ' '}, {'analysis': [{'lex': 'сокрушать', 'wt': 1, 'gr': 'V,пе=непрош,ед,изъяв,3-л,сов'}], 'text': 'сокрушит'}, {'text': '.'}, {'text': '\\n'}, {'analysis': [{'lex': 'так', 'wt': 0.9840554802, 'gr': 'ADVPRO='}], 'text': 'Так'}, {'text': '!'}, {'text': ' — '}, {'analysis': [{'lex': 'весь', 'wt': 0.9978909737, 'gr': 'APRO=(вин,ед,муж,неод|им,ед,муж)'}], 'text': 'весь'}, {'text': ' '}, {'analysis': [{'lex': 'я', 'wt': 0.9999716281, 'gr': 'SPRO,ед,1-л=им'}], 'text': 'я'}, {'text': ' '}, {'analysis': [{'lex': 'не', 'wt': 1, 'gr': 'PART='}], 'text': 'не'}, {'text': ' '}, {'analysis': [{'lex': 'умирать', 'wt': 1, 'gr': 'V,нп=непрош,ед,изъяв,1-л,сов'}], 'text': 'умру'}, {'text': '; '}, {'analysis': [{'lex': 'но', 'wt': 0.9998906299, 'gr': 'CONJ='}], 'text': 'но'}, {'text': ' '}, {'analysis': [{'lex': 'часть', 'wt': 1, 'gr': 'S,жен,неод=(вин,ед|им,ед)'}], 'text': 'часть'}, {'text': ' '}, {'analysis': [{'lex': 'я', 'wt': 0.9999549915, 'gr': 'SPRO,ед,1-л=(вин|род)'}], 'text': 'меня'}, {'text': ' '}, {'analysis': [{'lex': 'большой', 'wt': 0.9779985403, 'gr': 'A=им,ед,полн,жен'}], 'text': 'большая'}, {'text': ',\\n'}, {'analysis': [{'lex': 'от', 'wt': 1, 'gr': 'PR='}], 'text': 'От'}, {'text': ' '}, {'analysis': [{'lex': 'тлен', 'wt': 1, 'gr': 'S,муж,неод=род,ед'}], 'text': 'тлена'}, {'text': ' '}, {'analysis': [{'lex': 'убегать', 'wt': 1, 'gr': 'V,нп=прош,деепр,сов'}], 'text': 'убежав'}, {'text': ', '}, {'analysis': [{'lex': 'по', 'wt': 1, 'gr': 'PR='}], 'text': 'по'}, {'text': ' '}, {'analysis': [{'lex': 'смерть', 'wt': 1, 'gr': 'S,жен,неод=(пр,ед|вин,мн|дат,ед|род,ед|им,мн)'}], 'text': 'смерти'}, {'text': ' '}, {'analysis': [{'lex': 'становиться', 'wt': 1, 'gr': 'V,нп=непрош,ед,изъяв,3-л,сов'}], 'text': 'станет'}, {'text': ' '}, {'analysis': [{'lex': 'жить', 'wt': 1, 'gr': 'V,несов,нп=инф'}], 'text': 'жить'}, {'text': ',\\n'}, {'analysis': [{'lex': 'и', 'wt': 0.9999770357, 'gr': 'CONJ='}], 'text': 'И'}, {'text': ' '}, {'analysis': [{'lex': 'слава', 'wt': 0.9971936722, 'gr': 'S,жен,неод=им,ед'}], 'text': 'слава'}, {'text': ' '}, {'analysis': [{'lex': 'возрастать', 'wt': 1, 'gr': 'V,нп=непрош,ед,изъяв,3-л,сов'}], 'text': 'возрастет'}, {'text': ' '}, {'analysis': [{'lex': 'мой', 'wt': 0.9973555928, 'gr': 'APRO=им,ед,жен'}], 'text': 'моя'}, {'text': ', '}, {'analysis': [{'lex': 'не', 'wt': 1, 'gr': 'PART='}], 'text': 'не'}, {'text': ' '}, {'analysis': [{'lex': 'увядать', 'wt': 1, 'gr': 'V,несов,нп=непрош,деепр'}], 'text': 'увядая'}, {'text': ',\\n'}, {'analysis': [{'lex': 'доколь', 'wt': 1, 'gr': 'ADVPRO='}], 'text': 'Доколь'}, {'text': ' '}, {'analysis': [{'lex': 'славянов', 'wt': 1, 'gr': 'S,фам,муж,од=им,ед'}], 'text': 'славянов'}, {'text': ' '}, {'analysis': [{'lex': 'род', 'wt': 0.997619433, 'gr': 'S,муж,неод=(вин,ед|им,ед)'}], 'text': 'род'}, {'text': ' '}, {'analysis': [{'lex': 'вселенный', 'wt': 0.5123322069, 'qual': 'bastard', 'gr': 'A=ед,кр,жен'}], 'text': 'вселенна'}, {'text': ' '}, {'analysis': [{'lex': 'быть', 'wt': 0.1492564349, 'gr': 'V,нп=непрош,ед,изъяв,3-л'}], 'text': 'будет'}, {'text': ' '}, {'analysis': [{'lex': 'чтить', 'wt': 1, 'gr': 'V,несов=инф,пе'}], 'text': 'чтить'}, {'text': '.'}, {'text': '\\n'}, {'analysis': [{'lex': 'слух', 'wt': 1, 'gr': 'S,муж,неод=(вин,ед|им,ед)'}], 'text': 'Слух'}, {'text': ' '}, {'analysis': [{'lex': 'про', 'wt': 1, 'gr': 'PR='}], 'text': 'про'}, {'text': '?'}, {'analysis': [{'lex': 'йдет', 'wt': 0.3139403354, 'qual': 'bastard', 'gr': 'S,муж,неод=(вин,ед|им,ед)'}], 'text': 'йдет'}, {'text': ' '}, {'analysis': [{'lex': 'обо', 'wt': 1, 'gr': 'PR='}], 'text': 'обо'}, {'text': ' '}, {'analysis': [{'lex': 'я', 'wt': 1, 'gr': 'SPRO,ед,1-л=(пр|дат)'}], 'text': 'мне'}, {'text': ' '}, {'analysis': [{'lex': 'от', 'wt': 1, 'gr': 'PR='}], 'text': 'от'}, {'text': ' '}, {'analysis': [{'lex': 'белый', 'wt': 0.9883929727, 'gr': 'A=(пр,мн,полн|вин,мн,полн,од|род,мн,полн)'}], 'text': 'Белых'}, {'text': ' '}, {'analysis': [{'lex': 'вода', 'wt': 0.9989288598, 'gr': 'S,жен,неод=род,мн'}], 'text': 'вод'}, {'text': ' '}, {'analysis': [{'lex': 'до', 'wt': 0.9994975359, 'gr': 'PR='}], 'text': 'до'}, {'text': ' '}, {'analysis': [{'lex': 'черный', 'wt': 0.0001902797319, 'gr': 'S,фам,муж,од=(пр,мн|вин,мн|род,мн)'}], 'text': 'Черных'}, {'text': ',\\n'}, {'analysis': [{'lex': 'где', 'wt': 1, 'gr': 'ADVPRO='}], 'text': 'Где'}, {'text': ' '}, {'analysis': [{'lex': 'волга', 'wt': 1, 'gr': 'S,жен,неод=им,ед'}], 'text': 'Волга'}, {'text': ', '}, {'analysis': [{'lex': 'дон', 'wt': 0.1885644967, 'gr': 'S,муж,од=им,ед'}], 'text': 'Дон'}, {'text': ', '}, {'analysis': [{'lex': 'нева', 'wt': 0.984394266, 'gr': 'S,гео,жен,неод=им,ед'}], 'text': 'Нева'}, {'text': ', '}, {'analysis': [{'lex': 'с', 'wt': 0.999977831, 'gr': 'PR='}], 'text': 'с'}, {'text': ' '}, {'analysis': [{'lex': 'рифей', 'wt': 1, 'gr': 'S,муж,неод=род,ед'}], 'text': 'Рифея'}, {'text': ' '}, {'analysis': [{'lex': 'лить', 'wt': 1, 'gr': 'V,несов,пе=непрош,ед,изъяв,3-л'}], 'text': 'льет'}, {'text': ' '}, {'analysis': [{'lex': 'урал', 'wt': 1, 'gr': 'S,гео,муж,неод=(вин,ед|им,ед)'}], 'text': 'Урал'}, {'text': ';\\n'}, {'analysis': [{'lex': 'всякий', 'wt': 1, 'gr': 'APRO=ед,кр,муж'}], 'text': 'Всяк'}, {'text': ' '}, {'analysis': [{'lex': 'быть', 'wt': 0.1492564349, 'gr': 'V,нп=непрош,ед,изъяв,3-л'}], 'text': 'будет'}, {'text': ' '}, {'analysis': [{'lex': 'помнить', 'wt': 1, 'gr': 'V,несов,пе=инф'}], 'text': 'помнить'}, {'text': ' '}, {'analysis': [{'lex': 'то', 'wt': 0.3040701242, 'gr': 'CONJ='}], 'text': 'то'}, {'text': ' '}, {'analysis': [{'lex': 'в', 'wt': 0.9999917878, 'gr': 'PR='}], 'text': 'в'}, {'text': ' '}, {'analysis': [{'lex': 'народ', 'wt': 1, 'gr': 'S,муж,неод=пр,мн'}], 'text': 'народах'}, {'text': ' '}, {'analysis': [{'lex': 'неисчетный', 'wt': 0.8917481423, 'qual': 'bastard', 'gr': 'A=(пр,мн,полн|вин,мн,полн,од|род,мн,полн)'}], 'text': 'неисчетных'}, {'text': ',\\n'}, {'analysis': [{'lex': 'как', 'wt': 0.3756069802, 'gr': 'ADVPRO='}], 'text': 'Как'}, {'text': ' '}, {'analysis': [{'lex': 'из', 'wt': 0.9999999775, 'gr': 'PR='}], 'text': 'из'}, {'text': ' '}, {'analysis': [{'lex': 'безвестность', 'wt': 1, 'gr': 'S,жен,неод=(пр,ед|вин,мн|дат,ед|род,ед|им,мн)'}], 'text': 'безвестности'}, {'text': ' '}, {'analysis': [{'lex': 'я', 'wt': 0.9999716281, 'gr': 'SPRO,ед,1-л=им'}], 'text': 'я'}, {'text': ' '}, {'analysis': [{'lex': 'то', 'wt': 0.6993998155, 'gr': 'SPRO,ед,сред,неод=твор'}], 'text': 'тем'}, {'text': ' '}, {'analysis': [{'lex': 'известный', 'wt': 1, 'gr': 'A=ед,кр,муж'}], 'text': 'известен'}, {'text': ' '}, {'analysis': [{'lex': 'становиться', 'wt': 1, 'gr': 'V,нп=прош,ед,изъяв,муж,сов'}], 'text': 'стал'}, {'text': ',\\n'}, {'analysis': [{'lex': 'что', 'wt': 0.688532576, 'gr': 'CONJ='}], 'text': 'Что'}, {'text': ' '}, {'analysis': [{'lex': 'первый', 'wt': 1, 'gr': 'ANUM=(вин,ед,муж,неод|им,ед,муж)'}], 'text': 'первый'}, {'text': ' '}, {'analysis': [{'lex': 'я', 'wt': 0.9999716281, 'gr': 'SPRO,ед,1-л=им'}], 'text': 'я'}, {'text': ' '}, {'analysis': [{'lex': 'дерзать', 'wt': 1, 'gr': 'V,нп=прош,ед,изъяв,муж,сов'}], 'text': 'дерзнул'}, {'text': ' '}, {'analysis': [{'lex': 'в', 'wt': 0.9999917878, 'gr': 'PR='}], 'text': 'в'}, {'text': ' '}, {'analysis': [{'lex': 'забавный', 'wt': 1, 'gr': 'A=(пр,ед,полн,муж|пр,ед,полн,сред)'}], 'text': 'забавном'}, {'text': ' '}, {'analysis': [{'lex': 'русский', 'wt': 0.9888869739, 'gr': 'A=(пр,ед,полн,муж|пр,ед,полн,сред)'}], 'text': 'русском'}, {'text': ' '}, {'analysis': [{'lex': 'слог', 'wt': 1, 'gr': 'S,муж,неод=пр,ед'}], 'text': 'слоге'}, {'text': '\\n'}, {'analysis': [{'lex': 'о', 'wt': 0.9737875835, 'gr': 'PR='}], 'text': 'О'}, {'text': ' '}, {'analysis': [{'lex': 'добродетель', 'wt': 1, 'gr': 'S,жен,неод=пр,мн'}], 'text': 'добродетелях'}, {'text': ' '}, {'analysis': [{'lex': 'фелица', 'wt': 1, 'gr': 'S,имя,жен,од=(род,ед|им,мн)'}], 'text': 'Фелицы'}, {'text': ' '}, {'analysis': [{'lex': 'возглашать', 'wt': 1, 'gr': 'V=инф,сов'}], 'text': 'возгласить'}, {'text': ',\\n'}, {'analysis': [{'lex': 'в', 'wt': 0.9999917878, 'gr': 'PR='}], 'text': 'В'}, {'text': ' '}, {'analysis': [{'lex': 'сердечный', 'wt': 0.9911748042, 'gr': 'A=(пр,ед,полн,жен|дат,ед,полн,жен|род,ед,полн,жен|твор,ед,полн,жен)'}], 'text': 'сердечной'}, {'text': ' '}, {'analysis': [{'lex': 'простота', 'wt': 1, 'gr': 'S,жен,неод=(пр,ед|дат,ед)'}], 'text': 'простоте'}, {'text': ' '}, {'analysis': [{'lex': 'беседовать', 'wt': 1, 'gr': 'V,несов,нп=инф'}], 'text': 'беседовать'}, {'text': ' '}, {'analysis': [{'lex': 'о', 'wt': 0.9737875835, 'gr': 'PR='}], 'text': 'о'}, {'text': ' '}, {'analysis': [{'lex': 'бог', 'wt': 1, 'gr': 'S,муж,од=пр,ед'}], 'text': 'боге'}, {'text': '\\n'}, {'analysis': [{'lex': 'и', 'wt': 0.9999770357, 'gr': 'CONJ='}], 'text': 'И'}, {'text': ' '}, {'analysis': [{'lex': 'истина', 'wt': 1, 'gr': 'S,жен,неод=вин,ед'}], 'text': 'истину'}, {'text': ' '}, {'analysis': [{'lex': 'царь', 'wt': 1, 'gr': 'S,муж,од=дат,мн'}], 'text': 'царям'}, {'text': ' '}, {'analysis': [{'lex': 'с', 'wt': 0.999977831, 'gr': 'PR='}], 'text': 'с'}, {'text': ' '}, {'analysis': [{'lex': 'улыбка', 'wt': 1, 'gr': 'S,жен,неод=твор,ед'}], 'text': 'улыбкой'}, {'text': ' '}, {'analysis': [{'lex': 'говорить', 'wt': 1, 'gr': 'V,несов,пе=инф'}], 'text': 'говорить'}, {'text': '.'}, {'text': '\\n'}, {'analysis': [{'lex': 'о', 'wt': 0.9737875835, 'gr': 'PR='}], 'text': 'О'}, {'text': ' '}, {'analysis': [{'lex': 'муза', 'wt': 0.5123939465, 'gr': 'S,жен,од=им,ед'}], 'text': 'Муза'}, {'text': '!'}, {'text': ' '}, {'analysis': [{'lex': 'возгордиться', 'wt': 1, 'gr': 'V,сов,нп=ед,пов,2-л'}], 'text': 'возгордись'}, {'text': ' '}, {'analysis': [{'lex': 'заслуга', 'wt': 1, 'gr': 'S,жен,неод=твор,ед'}], 'text': 'заслугой'}, {'text': ' '}, {'analysis': [{'lex': 'справедливый', 'wt': 1, 'gr': 'A=(пр,ед,полн,жен|дат,ед,полн,жен|род,ед,полн,жен|твор,ед,полн,жен)'}], 'text': 'справедливой'}, {'text': ',\\n'}, {'analysis': [{'lex': 'и', 'wt': 1.020511514e-05, 'gr': 'INTJ='}], 'text': 'И'}, {'text': ' '}, {'analysis': [{'lex': 'пря', 'wt': 0.4374793797, 'gr': 'S,гео,жен,неод=(пр,ед|дат,ед)'}], 'text': 'пре'}, {'text': '?'}, {'analysis': [{'lex': 'зреть', 'wt': 1, 'gr': 'V,несов,пе=непрош,ед,изъяв,3-л'}], 'text': 'зрит'}, {'text': ' '}, {'analysis': [{'lex': 'кто', 'wt': 1, 'gr': 'SPRO,ед,муж,од=им'}], 'text': 'кто'}, {'text': ' '}, {'analysis': [{'lex': 'ты', 'wt': 1, 'gr': 'SPRO,ед,2-л=(вин|род)'}], 'text': 'тебя'}, {'text': ', '}, {'analysis': [{'lex': 'сам', 'wt': 1, 'gr': 'APRO=им,ед,жен'}], 'text': 'сама'}, {'text': ' '}, {'analysis': [{'lex': 'тот', 'wt': 0.9993386898, 'gr': 'APRO=(пр,мн|род,мн|вин,мн,од)'}], 'text': 'тех'}, {'text': ' '}, {'analysis': [{'lex': 'презирать', 'wt': 1, 'gr': 'V,пе=ед,пов,2-л,несов'}], 'text': 'презирай'}, {'text': ';\\n'}, {'analysis': [{'lex': 'непринужденный', 'wt': 1, 'gr': 'A=твор,ед,полн,жен'}], 'text': 'Непринужденною'}, {'text': ' '}, {'analysis': [{'lex': 'рука', 'wt': 1, 'gr': 'S,жен,неод=твор,ед'}], 'text': 'рукой'}, {'text': ', '}, {'analysis': [{'lex': 'неторопливый', 'wt': 1, 'gr': 'A=(пр,ед,полн,жен|дат,ед,полн,жен|род,ед,полн,жен|твор,ед,полн,жен)'}], 'text': 'неторопливой'}, {'text': ',\\n'}, {'analysis': [{'lex': 'чело', 'wt': 1, 'gr': 'S,сред,неод=(вин,ед|им,ед)'}], 'text': 'Чело'}, {'text': ' '}, {'analysis': [{'lex': 'твой', 'wt': 1, 'gr': 'APRO=(вин,ед,сред|им,ед,сред)'}], 'text': 'твое'}, {'text': ' '}, {'analysis': [{'lex': 'заря', 'wt': 0.9951607184, 'gr': 'S,жен,неод=твор,ед'}], 'text': 'зарей'}, {'text': ' '}, {'analysis': [{'lex': 'бессмертие', 'wt': 1, 'gr': 'S,сред,неод=(вин,мн|род,ед|им,мн)'}], 'text': 'бессмертия'}, {'text': ' '}, {'analysis': [{'lex': 'венчать', 'wt': 1, 'gr': 'V,пе=(ед,пов,2-л,несов|ед,пов,2-л,сов)'}], 'text': 'венчай'}, {'text': '.'}, {'text': '\\n'}, {'text': '1795'}, {'text': '\\n'}, {'analysis': [{'lex': 'о', 'wt': 0.9737875835, 'gr': 'PR='}], 'text': 'о'}, {'text': ' '}, {'analysis': [{'lex': 'текст', 'wt': 1, 'gr': 'S,муж,неод=пр,ед'}], 'text': 'тексте'}, {'text': ' <'}, {'analysis': [], 'text': 'https'}, {'text': '://'}, {'analysis': [], 'text': 'ilibrary'}, {'text': '.'}, {'analysis': [], 'text': 'ru'}, {'text': '/'}, {'analysis': [], 'text': 'text'}, {'text': '/'}, {'text': '1272'}, {'text': '/'}, {'analysis': [], 'text': 'index'}, {'text': '.'}, {'analysis': [], 'text': 'html'}, {'text': '>\\n'}, {'analysis': [], 'text': '©'}, {'text': ' '}, {'analysis': [{'lex': 'этот', 'wt': 0.05565618415, 'gr': 'APRO=(вин,ед,сред|им,ед,сред)'}], 'text': 'Это'}, {'text': ' '}, {'analysis': [{'lex': 'произведение', 'wt': 1, 'gr': 'S,сред,неод=(вин,ед|им,ед)'}], 'text': 'произведение'}, {'text': ' '}, {'analysis': [{'lex': 'переходить', 'wt': 0.9932764451, 'gr': 'V,пе=прош,ед,изъяв,сред,сов'}], 'text': 'перешло'}, {'text': ' '}, {'analysis': [{'lex': 'в', 'wt': 0.9999917878, 'gr': 'PR='}], 'text': 'в'}, {'text': ' '}, {'analysis': [{'lex': 'общественный', 'wt': 1, 'gr': 'A=(вин,ед,полн,сред|им,ед,полн,сред)'}], 'text': 'общественное'}, {'text': ' '}, {'analysis': [{'lex': 'достояние', 'wt': 1, 'gr': 'S,сред,неод=(вин,ед|им,ед)'}], 'text': 'достояние'}, {'text': '. '}, {'analysis': [{'lex': 'произведение', 'wt': 1, 'gr': 'S,сред,неод=(вин,ед|им,ед)'}], 'text': 'Произведение'}, {'text': '\\n'}, {'analysis': [{'lex': 'написать', 'wt': 1, 'gr': 'V,сов,пе=прош,ед,прич,кр,сред,страд'}], 'text': 'написано'}, {'text': ' '}, {'analysis': [{'lex': 'автор', 'wt': 1, 'gr': 'S,муж,од=твор,ед'}], 'text': 'автором'}, {'text': ', '}, {'analysis': [{'lex': 'умирать', 'wt': 0.6103449629, 'gr': 'V,нп=(прош,дат,мн,прич,полн,сов,действ|прош,твор,ед,прич,полн,муж,сов,действ|прош,твор,ед,прич,полн,сред,сов,действ)'}], 'text': 'умершим'}, {'text': ' '}, {'analysis': [{'lex': 'много', 'wt': 5.317491368e-05, 'gr': 'ADV=срав'}], 'text': 'более'}, {'text': ' '}, {'analysis': [{'lex': 'семьдесят', 'wt': 1, 'gr': 'NUM=(пр|дат|род)'}], 'text': 'семидесяти'}, {'text': ' '}, {'analysis': [{'lex': 'год', 'wt': 0.9954891636, 'gr': 'S,муж,неод=род,мн'}], 'text': 'лет'}, {'text': ' '}, {'analysis': [{'lex': 'назад', 'wt': 0.9988998843, 'gr': 'ADV='}], 'text': 'назад'}, {'text': ', '}, {'analysis': [{'lex': 'и', 'wt': 0.9999770357, 'gr': 'CONJ='}], 'text': 'и'}, {'text': ' '}, {'analysis': [{'lex': 'опубликовывать', 'wt': 1, 'gr': 'V=прош,ед,прич,кр,сред,сов,страд'}], 'text': 'опубликовано'}, {'text': '\\n'}, {'analysis': [{'lex': 'прижизненный', 'wt': 1, 'gr': 'A=ед,кр,сред'}], 'text': 'прижизненно'}, {'text': ', '}, {'analysis': [{'lex': 'либо', 'wt': 0.9982219102, 'gr': 'CONJ='}], 'text': 'либо'}, {'text': ' '}, {'analysis': [{'lex': 'посмертно', 'wt': 0.9559079075, 'gr': 'ADV='}], 'text': 'посмертно'}, {'text': ', '}, {'analysis': [{'lex': 'но', 'wt': 0.9998906299, 'gr': 'CONJ='}], 'text': 'но'}, {'text': ' '}, {'analysis': [{'lex': 'с', 'wt': 0.999977831, 'gr': 'PR='}], 'text': 'с'}, {'text': ' '}, {'analysis': [{'lex': 'момент', 'wt': 1, 'gr': 'S,муж,неод=род,ед'}], 'text': 'момента'}, {'text': ' '}, {'analysis': [{'lex': 'публикация', 'wt': 1, 'gr': 'S,жен,неод=(пр,ед|вин,мн|дат,ед|род,ед|им,мн)'}], 'text': 'публикации'}, {'text': ' '}, {'analysis': [{'lex': 'также', 'wt': 0.9985197199, 'gr': 'ADV='}], 'text': 'также'}, {'text': ' '}, {'analysis': [{'lex': 'проходить', 'wt': 0.8800366087, 'gr': 'V,нп=прош,ед,изъяв,сред,сов'}], 'text': 'прошло'}, {'text': ' '}, {'analysis': [{'lex': 'много', 'wt': 5.317491368e-05, 'gr': 'ADV=срав'}], 'text': 'более'}, {'text': '\\n'}, {'analysis': [{'lex': 'семьдесят', 'wt': 1, 'gr': 'NUM=(пр|дат|род)'}], 'text': 'семидесяти'}, {'text': ' '}, {'analysis': [{'lex': 'год', 'wt': 0.9954891636, 'gr': 'S,муж,неод=род,мн'}], 'text': 'лет'}, {'text': '. '}, {'analysis': [{'lex': 'оно', 'wt': 0.9980605704, 'gr': 'SPRO,ед,3-л,сред=им'}], 'text': 'Оно'}, {'text': ' '}, {'analysis': [{'lex': 'мочь', 'wt': 0.8596381856, 'gr': 'V,несов,нп=непрош,ед,изъяв,3-л'}], 'text': 'может'}, {'text': ' '}, {'analysis': [{'lex': 'свободно', 'wt': 0.885713925, 'gr': 'ADV='}], 'text': 'свободно'}, {'text': ' '}, {'analysis': [{'lex': 'использоваться', 'wt': 1, 'gr': 'V,несов,нп=инф'}], 'text': 'использоваться'}, {'text': ' '}, {'analysis': [{'lex': 'любой', 'wt': 0.999172894, 'gr': 'APRO=(дат,мн|твор,ед,муж|твор,ед,сред)'}], 'text': 'любым'}, {'text': ' '}, {'analysis': [{'lex': 'лицо', 'wt': 0.870758603, 'gr': 'S,сред,неод=твор,ед'}], 'text': 'лицом'}, {'text': ' '}, {'analysis': [{'lex': 'без', 'wt': 1, 'gr': 'PR='}], 'text': 'без'}, {'text': '\\n'}, {'analysis': [{'lex': 'чей-либо', 'wt': 1, 'gr': 'APRO=(вин,ед,муж,од|род,ед,муж|род,ед,сред)'}], 'text': 'чьего-либо'}, {'text': ' '}, {'analysis': [{'lex': 'согласие', 'wt': 1, 'gr': 'S,сред,неод=(вин,мн|род,ед|им,мн)'}], 'text': 'согласия'}, {'text': ' '}, {'analysis': [{'lex': 'или', 'wt': 0.9998854567, 'gr': 'CONJ='}], 'text': 'или'}, {'text': ' '}, {'analysis': [{'lex': 'разрешение', 'wt': 1, 'gr': 'S,сред,неод=(вин,мн|род,ед|им,мн)'}], 'text': 'разрешения'}, {'text': ' '}, {'analysis': [{'lex': 'и', 'wt': 0.9999770357, 'gr': 'CONJ='}], 'text': 'и'}, {'text': ' '}, {'analysis': [{'lex': 'без', 'wt': 1, 'gr': 'PR='}], 'text': 'без'}, {'text': ' '}, {'analysis': [{'lex': 'выплата', 'wt': 1, 'gr': 'S,жен,неод=(вин,мн|род,ед|им,мн)'}], 'text': 'выплаты'}, {'text': ' '}, {'analysis': [{'lex': 'авторский', 'wt': 1, 'gr': 'A=(вин,ед,полн,муж,од|род,ед,полн,муж|род,ед,полн,сред)'}], 'text': 'авторского'}, {'text': ' '}, {'analysis': [{'lex': 'вознаграждение', 'wt': 1, 'gr': 'S,сред,неод=(вин,мн|род,ед|им,мн)'}], 'text': 'вознаграждения'}, {'text': '.'}, {'text': '\\n'}, {'analysis': [{'lex': 'для', 'wt': 1, 'gr': 'PR='}], 'text': 'Для'}, {'text': ' '}, {'analysis': [{'lex': 'ребенок', 'wt': 1, 'gr': 'S,муж,од=(вин,мн|род,мн)'}], 'text': 'детей'}, {'text': ' '}, {'analysis': [{'lex': 'и', 'wt': 0.9999770357, 'gr': 'CONJ='}], 'text': 'и'}, {'text': ' '}, {'analysis': [{'lex': 'взрослый', 'wt': 0.2330986095, 'gr': 'A=(пр,мн,полн|вин,мн,полн,од|род,мн,полн)'}], 'text': 'взрослых'}, {'text': ' '}, {'analysis': [{'lex': 'книга', 'wt': 1, 'gr': 'S,жен,неод=им,ед'}], 'text': 'книга'}, {'text': '-'}, {'analysis': [{'lex': 'загадка', 'wt': 1, 'gr': 'S,жен,неод=им,ед'}], 'text': 'загадка'}, {'text': '\\n'}, {'text': '«'}, {'analysis': [], 'text': 'ЗБ'}, {'text': '» <'}, {'analysis': [], 'text': 'http'}, {'text': '://'}, {'analysis': [], 'text': 'ridero'}, {'text': '.'}, {'analysis': [], 'text': 'ru'}, {'text': '/'}, {'analysis': [], 'text': 'books'}, {'text': '/'}, {'analysis': [], 'text': 'zb'}, {'text': '/>\\n'}, {'analysis': [{'lex': 'от', 'wt': 1, 'gr': 'PR='}], 'text': 'от'}, {'text': ' '}, {'analysis': [{'lex': 'олег', 'wt': 1, 'gr': 'S,имя,муж,од=(вин,ед|род,ед)'}], 'text': 'Олега'}, {'text': ' '}, {'analysis': [{'lex': 'раин', 'wt': 0.322249798, 'gr': 'S,фам,муж,од=(вин,ед|род,ед)'}], 'text': 'Раина'}, {'text': '.'}, {'text': '\\n'}, {'analysis': [{'lex': 'литературный', 'wt': 1, 'gr': 'A=им,ед,полн,жен'}], 'text': 'Литературная'}, {'text': ' '}, {'analysis': [{'lex': 'премия', 'wt': 1, 'gr': 'S,жен,неод=им,ед'}], 'text': 'премия'}, {'text': ' «'}, {'analysis': [{'lex': 'чаша', 'wt': 1, 'gr': 'S,жен,неод=им,ед'}], 'text': 'Чаша'}, {'text': ' '}, {'analysis': [{'lex': 'круговой', 'wt': 1, 'gr': 'A=им,ед,полн,жен'}], 'text': 'Круговая'}, {'text': '», '}, {'analysis': [{'lex': 'финалист', 'wt': 1, 'gr': 'S,муж,од=им,ед'}], 'text': 'финалист'}, {'text': ' '}, {'analysis': [{'lex': 'премия', 'wt': 1, 'gr': 'S,жен,неод=(пр,ед|вин,мн|дат,ед|род,ед|им,мн)'}], 'text': 'премии'}, {'text': ' '}, {'analysis': [{'lex': 'с', 'wt': 0.999977831, 'gr': 'PR='}], 'text': 'С'}, {'text': '. '}, {'analysis': [{'lex': 'михалкова', 'wt': 0.2636297028, 'gr': 'S,фам,жен,од=им,ед'}], 'text': 'Михалкова'}, {'text': ' — '}, {'analysis': [{'lex': 'на', 'wt': 0.9989522965, 'gr': 'PR='}], 'text': 'на'}, {'text': '\\n'}, {'analysis': [{'lex': 'сервис', 'wt': 1, 'gr': 'S,муж,неод=пр,ед'}], 'text': 'сервисе'}, {'text': ' '}, {'analysis': [], 'text': 'Ridero'}, {'text': '.'}, {'text': '\\n'}, {'analysis': [], 'text': 'Atlex'}, {'text': ' - '}, {'analysis': [{'lex': 'надежный', 'wt': 1, 'gr': 'A=(вин,ед,полн,муж,неод|им,ед,полн,муж)'}], 'text': 'надежный'}, {'text': ' '}, {'analysis': [{'lex': 'хостинг', 'wt': 1, 'gr': 'S,муж,неод=(вин,ед|им,ед)'}], 'text': 'хостинг'}, {'text': ' <'}, {'analysis': [], 'text': 'http'}, {'text': '://'}, {'analysis': [], 'text': 'atlex'}, {'text': '.'}, {'analysis': [], 'text': 'ru'}, {'text': '/>\\n'}, {'analysis': [], 'text': 'Email'}, {'text': ': '}, {'analysis': [], 'text': 'otklik'}, {'text': '@'}, {'analysis': [], 'text': 'ilibrary'}, {'text': '.'}, {'analysis': [], 'text': 'ru'}, {'text': ' <'}, {'analysis': [], 'text': 'mailto'}, {'text': ':'}, {'analysis': [], 'text': 'otklik'}, {'text': '@'}, {'analysis': [], 'text': 'ilibrary'}, {'text': '.'}, {'analysis': [], 'text': 'ru'}, {'text': '>'}, {'analysis': [{'lex': 'о', 'wt': 0.9737875835, 'gr': 'PR='}], 'text': 'О'}, {'text': ' '}, {'analysis': [{'lex': 'библиотека', 'wt': 1, 'gr': 'S,жен,неод=(пр,ед|дат,ед)'}], 'text': 'библиотеке'}, {'text': '\\n'}, {'text': '<'}, {'analysis': [], 'text': 'https'}, {'text': '://'}, {'analysis': [], 'text': 'ilibrary'}, {'text': '.'}, {'analysis': [], 'text': 'ru'}, {'text': '/'}, {'analysis': [], 'text': 'aboutilibrary'}, {'text': '/>\\n'}, {'analysis': [], 'text': '©'}, {'text': '1996'}, {'text': '—'}, {'text': '2019'}, {'text': ' '}, {'analysis': [{'lex': 'алексей', 'wt': 1, 'gr': 'S,имя,муж,од=им,ед'}], 'text': 'Алексей'}, {'text': ' '}, {'analysis': [{'lex': 'комаров', 'wt': 0.3071817479, 'gr': 'S,фам,муж,од=им,ед'}], 'text': 'Комаров'}, {'text': '. '}, {'analysis': [{'lex': 'подборка', 'wt': 1, 'gr': 'S,жен,неод=им,ед'}], 'text': 'Подборка'}, {'text': ' '}, {'analysis': [{'lex': 'произведение', 'wt': 1, 'gr': 'S,сред,неод=род,мн'}], 'text': 'произведений'}, {'text': ', '}, {'analysis': [{'lex': 'оформление', 'wt': 1, 'gr': 'S,сред,неод=(вин,ед|им,ед)'}], 'text': 'оформление'}, {'text': ',\\n'}, {'analysis': [{'lex': 'программирование', 'wt': 1, 'gr': 'S,сред,неод=(вин,ед|им,ед)'}], 'text': 'программирование'}, {'text': '.'}, {'text': '\\n'}, {'text': '<'}, {'analysis': [], 'text': 'http'}, {'text': '://'}, {'analysis': [], 'text': 'www'}, {'text': '.'}, {'analysis': [], 'text': 'liveinternet'}, {'text': '.'}, {'analysis': [], 'text': 'ru'}, {'text': '/'}, {'analysis': [], 'text': 'click'}, {'text': '> '}, {'analysis': [{'lex': 'яндекс', 'wt': 1, 'gr': 'S,муж,неод=(вин,ед|им,ед)'}], 'text': 'Яндекс'}, {'text': '.'}, {'analysis': [{'lex': 'метрика', 'wt': 1, 'gr': 'S,жен,неод=им,ед'}], 'text': 'Метрика'}, {'text': '\\n'}, {'text': '<'}, {'analysis': [], 'text': 'http'}, {'text': '://'}, {'analysis': [], 'text': 'metrika'}, {'text': '.'}, {'analysis': [], 'text': 'yandex'}, {'text': '.'}, {'analysis': [], 'text': 'ru'}, {'text': '/'}, {'analysis': [], 'text': 'stat'}, {'text': '/'}, {'text': '?'}, {'analysis': [], 'text': 'id'}, {'text': '='}, {'text': '5179000'}, {'text': '&'}, {'analysis': [], 'text': 'from'}, {'text': '='}, {'analysis': [], 'text': 'informer'}, {'text': '>\\n'}]\n"
     ]
    }
   ],
   "source": [
    "pars_text = m.analyze(text)\n",
    "print(pars_text)"
   ]
  },
  {
   "cell_type": "code",
   "execution_count": 7,
   "metadata": {},
   "outputs": [
    {
     "name": "stdout",
     "output_type": "stream",
     "text": [
      "Wall time: 39.4 s\n"
     ]
    }
   ],
   "source": [
    "%%time\n",
    "anad_text = m.analyze(text)\n"
   ]
  },
  {
   "cell_type": "markdown",
   "metadata": {},
   "source": [
    "###### Сохраним результат в json"
   ]
  },
  {
   "cell_type": "code",
   "execution_count": 8,
   "metadata": {},
   "outputs": [],
   "source": [
    "with open('пам.json', 'w', encoding='utf-8') as f:\n",
    "    json.dump(pars_text, f)"
   ]
  },
  {
   "cell_type": "markdown",
   "metadata": {},
   "source": [
    "### Задание 3"
   ]
  },
  {
   "cell_type": "code",
   "execution_count": 4,
   "metadata": {},
   "outputs": [
    {
     "name": "stdout",
     "output_type": "stream",
     "text": [
      "Requirement already satisfied: pymorphy2 in c:\\users\\badro\\anaconda\\lib\\site-packages (0.8)\n",
      "Requirement already satisfied: docopt>=0.6 in c:\\users\\badro\\anaconda\\lib\\site-packages (from pymorphy2) (0.6.2)\n",
      "Requirement already satisfied: dawg-python>=0.7 in c:\\users\\badro\\anaconda\\lib\\site-packages (from pymorphy2) (0.7.2)\n",
      "Requirement already satisfied: pymorphy2-dicts<3.0,>=2.4 in c:\\users\\badro\\anaconda\\lib\\site-packages (from pymorphy2) (2.4.393442.3710985)\n",
      "Note: you may need to restart the kernel to use updated packages.\n"
     ]
    }
   ],
   "source": [
    "pip install pymorphy2"
   ]
  },
  {
   "cell_type": "code",
   "execution_count": 5,
   "metadata": {},
   "outputs": [
    {
     "name": "stdout",
     "output_type": "stream",
     "text": [
      "Requirement already satisfied: pycodestyle_magic in c:\\users\\badro\\anaconda\\lib\\site-packages (0.4)\n",
      "Note: you may need to restart the kernel to use updated packages.\n"
     ]
    }
   ],
   "source": [
    "pip install pycodestyle_magic"
   ]
  },
  {
   "cell_type": "code",
   "execution_count": 7,
   "metadata": {},
   "outputs": [
    {
     "name": "stderr",
     "output_type": "stream",
     "text": [
      "[nltk_data] Downloading collection 'popular'\n",
      "[nltk_data]    | \n",
      "[nltk_data]    | Downloading package cmudict to\n",
      "[nltk_data]    |     C:\\Users\\badro\\AppData\\Roaming\\nltk_data...\n",
      "[nltk_data]    |   Package cmudict is already up-to-date!\n",
      "[nltk_data]    | Downloading package gazetteers to\n",
      "[nltk_data]    |     C:\\Users\\badro\\AppData\\Roaming\\nltk_data...\n",
      "[nltk_data]    |   Package gazetteers is already up-to-date!\n",
      "[nltk_data]    | Downloading package genesis to\n",
      "[nltk_data]    |     C:\\Users\\badro\\AppData\\Roaming\\nltk_data...\n",
      "[nltk_data]    |   Package genesis is already up-to-date!\n",
      "[nltk_data]    | Downloading package gutenberg to\n",
      "[nltk_data]    |     C:\\Users\\badro\\AppData\\Roaming\\nltk_data...\n",
      "[nltk_data]    |   Package gutenberg is already up-to-date!\n",
      "[nltk_data]    | Downloading package inaugural to\n",
      "[nltk_data]    |     C:\\Users\\badro\\AppData\\Roaming\\nltk_data...\n",
      "[nltk_data]    |   Package inaugural is already up-to-date!\n",
      "[nltk_data]    | Downloading package movie_reviews to\n",
      "[nltk_data]    |     C:\\Users\\badro\\AppData\\Roaming\\nltk_data...\n",
      "[nltk_data]    |   Package movie_reviews is already up-to-date!\n",
      "[nltk_data]    | Downloading package names to\n",
      "[nltk_data]    |     C:\\Users\\badro\\AppData\\Roaming\\nltk_data...\n",
      "[nltk_data]    |   Package names is already up-to-date!\n",
      "[nltk_data]    | Downloading package shakespeare to\n",
      "[nltk_data]    |     C:\\Users\\badro\\AppData\\Roaming\\nltk_data...\n",
      "[nltk_data]    |   Package shakespeare is already up-to-date!\n",
      "[nltk_data]    | Downloading package stopwords to\n",
      "[nltk_data]    |     C:\\Users\\badro\\AppData\\Roaming\\nltk_data...\n",
      "[nltk_data]    |   Package stopwords is already up-to-date!\n",
      "[nltk_data]    | Downloading package treebank to\n",
      "[nltk_data]    |     C:\\Users\\badro\\AppData\\Roaming\\nltk_data...\n",
      "[nltk_data]    |   Package treebank is already up-to-date!\n",
      "[nltk_data]    | Downloading package twitter_samples to\n",
      "[nltk_data]    |     C:\\Users\\badro\\AppData\\Roaming\\nltk_data...\n",
      "[nltk_data]    |   Package twitter_samples is already up-to-date!\n",
      "[nltk_data]    | Downloading package omw to\n",
      "[nltk_data]    |     C:\\Users\\badro\\AppData\\Roaming\\nltk_data...\n",
      "[nltk_data]    |   Package omw is already up-to-date!\n",
      "[nltk_data]    | Downloading package wordnet to\n",
      "[nltk_data]    |     C:\\Users\\badro\\AppData\\Roaming\\nltk_data...\n",
      "[nltk_data]    |   Package wordnet is already up-to-date!\n",
      "[nltk_data]    | Downloading package wordnet_ic to\n",
      "[nltk_data]    |     C:\\Users\\badro\\AppData\\Roaming\\nltk_data...\n",
      "[nltk_data]    |   Package wordnet_ic is already up-to-date!\n",
      "[nltk_data]    | Downloading package words to\n",
      "[nltk_data]    |     C:\\Users\\badro\\AppData\\Roaming\\nltk_data...\n",
      "[nltk_data]    |   Package words is already up-to-date!\n",
      "[nltk_data]    | Downloading package maxent_ne_chunker to\n",
      "[nltk_data]    |     C:\\Users\\badro\\AppData\\Roaming\\nltk_data...\n",
      "[nltk_data]    |   Package maxent_ne_chunker is already up-to-date!\n",
      "[nltk_data]    | Downloading package punkt to\n",
      "[nltk_data]    |     C:\\Users\\badro\\AppData\\Roaming\\nltk_data...\n",
      "[nltk_data]    |   Package punkt is already up-to-date!\n",
      "[nltk_data]    | Downloading package snowball_data to\n",
      "[nltk_data]    |     C:\\Users\\badro\\AppData\\Roaming\\nltk_data...\n",
      "[nltk_data]    |   Package snowball_data is already up-to-date!\n",
      "[nltk_data]    | Downloading package averaged_perceptron_tagger to\n",
      "[nltk_data]    |     C:\\Users\\badro\\AppData\\Roaming\\nltk_data...\n",
      "[nltk_data]    |   Package averaged_perceptron_tagger is already up-\n",
      "[nltk_data]    |       to-date!\n",
      "[nltk_data]    | \n",
      "[nltk_data]  Done downloading collection popular\n"
     ]
    }
   ],
   "source": [
    "import nltk\n",
    "nltk.download('popular')\n",
    "from nltk.tokenize import word_tokenize"
   ]
  },
  {
   "cell_type": "code",
   "execution_count": 23,
   "metadata": {},
   "outputs": [
    {
     "name": "stdout",
     "output_type": "stream",
     "text": [
      "Wall time: 1.68 s\n"
     ]
    }
   ],
   "source": [
    "%%time\n",
    "with open('птица.txt', encoding = 'utf-8') as f:\n",
    "    text = f.read()\n",
    "tokens = word_tokenize(text)"
   ]
  },
  {
   "cell_type": "markdown",
   "metadata": {},
   "source": [
    "### Разберем слова с помощью pymorphy и засечем время работы"
   ]
  },
  {
   "cell_type": "code",
   "execution_count": 9,
   "metadata": {},
   "outputs": [],
   "source": [
    "from pymorphy2 import MorphAnalyzer"
   ]
  },
  {
   "cell_type": "code",
   "execution_count": 10,
   "metadata": {},
   "outputs": [],
   "source": [
    "morph = MorphAnalyzer()"
   ]
  },
  {
   "cell_type": "code",
   "execution_count": 11,
   "metadata": {},
   "outputs": [
    {
     "name": "stdout",
     "output_type": "stream",
     "text": [
      "Wall time: 34.5 s\n"
     ]
    }
   ],
   "source": [
    "%%time\n",
    "morf_text = []\n",
    "for token in tokens:\n",
    "    mor = morph.parse(token)\n",
    "    morf_text.append(mor)"
   ]
  },
  {
   "cell_type": "markdown",
   "metadata": {},
   "source": [
    "### Создаем список лемм и частей речи"
   ]
  },
  {
   "cell_type": "code",
   "execution_count": 12,
   "metadata": {},
   "outputs": [],
   "source": [
    "lemmas = []\n",
    "for part in morf_text:\n",
    "    unit = part[0]\n",
    "    lemmas.append([unit.normal_form, unit.tag.POS])"
   ]
  },
  {
   "cell_type": "markdown",
   "metadata": {},
   "source": [
    "### Сохраняем в json:"
   ]
  },
  {
   "cell_type": "code",
   "execution_count": 14,
   "metadata": {},
   "outputs": [],
   "source": [
    "import json\n",
    "with open('птица.json', 'w', encoding = 'utf-8') as f:\n",
    "    json_m = json.dump(lemmas, f, ensure_ascii=False)"
   ]
  },
  {
   "cell_type": "markdown",
   "metadata": {},
   "source": [
    "### Задание 4"
   ]
  },
  {
   "cell_type": "code",
   "execution_count": 17,
   "metadata": {},
   "outputs": [],
   "source": [
    "from collections import Counter"
   ]
  },
  {
   "cell_type": "code",
   "execution_count": 21,
   "metadata": {},
   "outputs": [
    {
     "name": "stdout",
     "output_type": "stream",
     "text": [
      "NOUN - 48603\n",
      "None - 57124\n",
      "ADJF - 20574\n",
      "PREP - 22806\n",
      "CONJ - 21388\n",
      "NUMR - 950\n",
      "PRTF - 1714\n",
      "ADVB - 14711\n",
      "PRCL - 12850\n",
      "VERB - 30088\n",
      "INFN - 6416\n",
      "ADJS - 1723\n",
      "PRED - 1367\n",
      "PRTS - 399\n",
      "NPRO - 20182\n",
      "COMP - 1222\n",
      "GRND - 2126\n",
      "INTJ - 512\n"
     ]
    }
   ],
   "source": [
    "part = []\n",
    "for i in lemmas:\n",
    "    part.append(i[1])\n",
    "total = Counter(part)\n",
    "parts = list(total.items())\n",
    "for i in range(len(parts)):\n",
    "    print(parts[i][0], '-', parts[i][1])"
   ]
  },
  {
   "cell_type": "code",
   "execution_count": 22,
   "metadata": {},
   "outputs": [
    {
     "name": "stdout",
     "output_type": "stream",
     "text": [
      "NOUN составляет 0.0340959074107721 долю\n",
      "None составляет 0.04007354720764038 долю\n",
      "ADJF составляет 0.01443304320863373 долю\n",
      "PREP составляет 0.015998832673087434 долю\n",
      "CONJ составляет 0.015004079330526792 долю\n",
      "NUMR составляет 0.0006664426484009937 долю\n",
      "PRTF составляет 0.0012024028414308453 долю\n",
      "ADVB составляет 0.010320039790133703 долю\n",
      "PRCL составляет 0.00901451371784502 долю\n",
      "VERB составляет 0.021107290952725365 долю\n",
      "INFN составляет 0.004500943191727132 долю\n",
      "ADJS составляет 0.0012087165086262233 долю\n",
      "PRED составляет 0.0009589758951201666 долю\n",
      "PRTS составляет 0.00027990591232841735 долю\n",
      "NPRO составляет 0.014158047926346161 долю\n",
      "COMP составляет 0.0008572557014168571 долю\n",
      "GRND составляет 0.0014914284952636974 долю\n",
      "INTJ составляет 0.00035917751155927234 долю\n"
     ]
    }
   ],
   "source": [
    "summa = len(text)\n",
    "for i in range(len(parts)):\n",
    "    print(parts[i][0],'составляет',parts[i][1]/summa,'долю')"
   ]
  },
  {
   "cell_type": "code",
   "execution_count": null,
   "metadata": {},
   "outputs": [],
   "source": []
  }
 ],
 "metadata": {
  "kernelspec": {
   "display_name": "Python 3",
   "language": "python",
   "name": "python3"
  },
  "language_info": {
   "codemirror_mode": {
    "name": "ipython",
    "version": 3
   },
   "file_extension": ".py",
   "mimetype": "text/x-python",
   "name": "python",
   "nbconvert_exporter": "python",
   "pygments_lexer": "ipython3",
   "version": "3.7.3"
  }
 },
 "nbformat": 4,
 "nbformat_minor": 2
}
